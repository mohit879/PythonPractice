{
 "cells": [
  {
   "cell_type": "code",
   "execution_count": 2,
   "metadata": {
    "collapsed": false
   },
   "outputs": [
    {
     "data": {
      "text/plain": [
       "['year,month,date_of_month,day_of_week,births',\n",
       " '1994,1,1,6,8096',\n",
       " '1994,1,2,7,7772',\n",
       " '1994,1,3,1,10142',\n",
       " '1994,1,4,2,11248',\n",
       " '1994,1,5,3,11053',\n",
       " '1994,1,6,4,11406',\n",
       " '1994,1,7,5,11251',\n",
       " '1994,1,8,6,8653',\n",
       " '1994,1,9,7,7910',\n",
       " '1994,1,10,1,10498',\n",
       " '1994,1,11,2,11706',\n",
       " '1994,1,12,3,11567',\n",
       " '1994,1,13,4,11212',\n",
       " '1994,1,14,5,11570',\n",
       " '1994,1,15,6,8660',\n",
       " '1994,1,16,7,8123',\n",
       " '1994,1,17,1,10567',\n",
       " '1994,1,18,2,11541',\n",
       " '1994,1,19,3,11257',\n",
       " '1994,1,20,4,11682',\n",
       " '1994,1,21,5,11811',\n",
       " '1994,1,22,6,8833',\n",
       " '1994,1,23,7,8310',\n",
       " '1994,1,24,1,11125',\n",
       " '1994,1,25,2,11981',\n",
       " '1994,1,26,3,11514',\n",
       " '1994,1,27,4,11702',\n",
       " '1994,1,28,5,11666',\n",
       " '1994,1,29,6,8988',\n",
       " '1994,1,30,7,8096',\n",
       " '1994,1,31,1,10765',\n",
       " '1994,2,1,2,11755',\n",
       " '1994,2,2,3,11483',\n",
       " '1994,2,3,4,11523',\n",
       " '1994,2,4,5,11677',\n",
       " '1994,2,5,6,8991',\n",
       " '1994,2,6,7,8309',\n",
       " '1994,2,7,1,10984',\n",
       " '1994,2,8,2,12152',\n",
       " '1994,2,9,3,11515',\n",
       " '1994,2,10,4,11623',\n",
       " '1994,2,11,5,11517',\n",
       " '1994,2,12,6,8945',\n",
       " '1994,2,13,7,8171',\n",
       " '1994,2,14,1,11551',\n",
       " '1994,2,15,2,12164',\n",
       " '1994,2,16,3,12009',\n",
       " '1994,2,17,4,11674',\n",
       " '1994,2,18,5,11887',\n",
       " '1994,2,19,6,8946',\n",
       " '1994,2,20,7,8402',\n",
       " '1994,2,21,1,10617',\n",
       " '1994,2,22,2,11810',\n",
       " '1994,2,23,3,11776',\n",
       " '1994,2,24,4,11667',\n",
       " '1994,2,25,5,11905',\n",
       " '1994,2,26,6,8988',\n",
       " '1994,2,27,7,8195',\n",
       " '1994,2,28,1,11091',\n",
       " '1994,3,1,2,12127',\n",
       " '1994,3,2,3,11735',\n",
       " '1994,3,3,4,11984',\n",
       " '1994,3,4,5,12066',\n",
       " '1994,3,5,6,9215',\n",
       " '1994,3,6,7,8389',\n",
       " '1994,3,7,1,10996',\n",
       " '1994,3,8,2,12275',\n",
       " '1994,3,9,3,11780',\n",
       " '1994,3,10,4,11792',\n",
       " '1994,3,11,5,11939',\n",
       " '1994,3,12,6,9087',\n",
       " '1994,3,13,7,8248',\n",
       " '1994,3,14,1,11092',\n",
       " '1994,3,15,2,12298',\n",
       " '1994,3,16,3,11865',\n",
       " '1994,3,17,4,11976',\n",
       " '1994,3,18,5,11799',\n",
       " '1994,3,19,6,8944',\n",
       " '1994,3,20,7,8243',\n",
       " '1994,3,21,1,11140',\n",
       " '1994,3,22,2,11964',\n",
       " '1994,3,23,3,11637',\n",
       " '1994,3,24,4,11904',\n",
       " '1994,3,25,5,11568',\n",
       " '1994,3,26,6,8957',\n",
       " '1994,3,27,7,8189',\n",
       " '1994,3,28,1,11051',\n",
       " '1994,3,29,2,12154',\n",
       " '1994,3,30,3,11540',\n",
       " '1994,3,31,4,11782',\n",
       " '1994,4,1,5,10630',\n",
       " '1994,4,2,6,8782',\n",
       " '1994,4,3,7,7530',\n",
       " '1994,4,4,1,10909',\n",
       " '1994,4,5,2,11876',\n",
       " '1994,4,6,3,11811',\n",
       " '1994,4,7,4,11718',\n",
       " '1994,4,8,5,11532',\n",
       " '1994,4,9,6,8791']"
      ]
     },
     "execution_count": 2,
     "metadata": {},
     "output_type": "execute_result"
    }
   ],
   "source": [
    "file=open('US_births_1994-2003_CDC_NCHS.csv','r').read()\n",
    "clear_file=file.split(\"\\n\")\n",
    "clear_file[0:100]"
   ]
  },
  {
   "cell_type": "code",
   "execution_count": 4,
   "metadata": {
    "collapsed": false
   },
   "outputs": [
    {
     "data": {
      "text/plain": [
       "[[1994, 1, 1, 6, 8096],\n",
       " [1994, 1, 2, 7, 7772],\n",
       " [1994, 1, 3, 1, 10142],\n",
       " [1994, 1, 4, 2, 11248],\n",
       " [1994, 1, 5, 3, 11053],\n",
       " [1994, 1, 6, 4, 11406],\n",
       " [1994, 1, 7, 5, 11251],\n",
       " [1994, 1, 8, 6, 8653],\n",
       " [1994, 1, 9, 7, 7910],\n",
       " [1994, 1, 10, 1, 10498]]"
      ]
     },
     "execution_count": 4,
     "metadata": {},
     "output_type": "execute_result"
    }
   ],
   "source": [
    "def read_csv(filename):\n",
    "    f=open(filename,'r').read()\n",
    "    string_list=f.split(\"\\n\")[1:]\n",
    "    final_list=[]\n",
    "    \n",
    "    for i in string_list:\n",
    "        int_fields=[]\n",
    "        string_fields=i.split(\",\")\n",
    "        for element in string_fields:\n",
    "            int_fields.append(int(element))\n",
    "        final_list.append(int_fields)\n",
    "    return(final_list)\n",
    "\n",
    "cdc_list=read_csv(\"US_births_1994-2003_CDC_NCHS.csv\")\n",
    "cdc_list[0:10]"
   ]
  },
  {
   "cell_type": "code",
   "execution_count": 5,
   "metadata": {
    "collapsed": false
   },
   "outputs": [
    {
     "name": "stdout",
     "output_type": "stream",
     "text": [
      "{1: 3232517, 2: 3018140, 3: 3322069, 4: 3185314, 5: 3350907, 6: 3296530, 7: 3498783, 8: 3525858, 9: 3439698, 10: 3378814, 11: 3171647, 12: 3301860}\n"
     ]
    }
   ],
   "source": [
    "def month_births(lists):\n",
    "    births_per_month={1:0,2:0,3:0,4:0,5:0,6:0,7:0,8:0,9:0,10:0,11:0,12:0}\n",
    "    for month in lists:\n",
    "        if(int(month[1]) in list(births_per_month.keys())):\n",
    "            births_per_month[int(month[1])]=births_per_month[int(month[1])]+int(month[4])\n",
    "    return births_per_month\n",
    "    \n",
    "cdc_month_births=month_births(cdc_list)    \n",
    "print(cdc_month_births)"
   ]
  },
  {
   "cell_type": "code",
   "execution_count": 6,
   "metadata": {
    "collapsed": false
   },
   "outputs": [
    {
     "name": "stdout",
     "output_type": "stream",
     "text": [
      "{1: 5789166, 2: 6446196, 3: 6322855, 4: 6288429, 5: 6233657, 6: 4562111, 7: 4079723}\n"
     ]
    }
   ],
   "source": [
    "def dow_births(lists):\n",
    "    births_per_week={1:0,2:0,3:0,4:0,5:0,6:0,7:0}\n",
    "    for day_of_week in lists:\n",
    "        if(int(day_of_week[3]) in list(births_per_week.keys())):\n",
    "            births_per_week[int(day_of_week[3])]=births_per_week[int(day_of_week[3])]+int(day_of_week[4])\n",
    "    return births_per_week\n",
    "    \n",
    "cdc_day_births=dow_births(cdc_list)    \n",
    "print(cdc_day_births)\n",
    "    \n",
    "    "
   ]
  },
  {
   "cell_type": "code",
   "execution_count": 12,
   "metadata": {
    "collapsed": false
   },
   "outputs": [
    {
     "name": "stdout",
     "output_type": "stream",
     "text": [
      "{2000: 4058814, 2001: 4025933, 2002: 4021726, 2003: 4089950, 1994: 3952767, 1995: 3899589, 1996: 3891494, 1997: 3880894, 1998: 3941553, 1999: 3959417}\n",
      "{1: 3232517, 2: 3018140, 3: 3322069, 4: 3185314, 5: 3350907, 6: 3296530, 7: 3498783, 8: 3525858, 9: 3439698, 10: 3378814, 11: 3171647, 12: 3301860}\n",
      "{1: 1276557, 2: 1288739, 3: 1304499, 4: 1288154, 5: 1299953, 6: 1304474, 7: 1310459, 8: 1312297, 9: 1303292, 10: 1320764, 11: 1314361, 12: 1318437, 13: 1277684, 14: 1320153, 15: 1319171, 16: 1315192, 17: 1324953, 18: 1326855, 19: 1318727, 20: 1324821, 21: 1322897, 22: 1317381, 23: 1293290, 24: 1288083, 25: 1272116, 26: 1284796, 27: 1294395, 28: 1307685, 29: 1223161, 30: 1202095, 31: 746696}\n",
      "{1: 5789166, 2: 6446196, 3: 6322855, 4: 6288429, 5: 6233657, 6: 4562111, 7: 4079723}\n"
     ]
    }
   ],
   "source": [
    "def calc_counts(data,column):\n",
    "    births_count={}\n",
    "    for i in data:\n",
    "        field = i[column]\n",
    "        births = i[4]\n",
    "        if(field in births_count):\n",
    "            births_count[field]=births_count[field]+births\n",
    "        else:\n",
    "            births_count[field]= births\n",
    "    return births_count\n",
    "        \n",
    "cdc_year_births=calc_counts(cdc_list,0)\n",
    "print(cdc_year_births)\n",
    "cdc_month_births=calc_counts(cdc_list,1)\n",
    "print(cdc_month_births)\n",
    "cdc_dom_births=calc_counts(cdc_list,2)\n",
    "print(cdc_dom_births)\n",
    "cdc_dow_births=calc_counts(cdc_list,3)\n",
    "print(cdc_dow_births)\n",
    "        \n",
    "    "
   ]
  },
  {
   "cell_type": "markdown",
   "metadata": {
    "collapsed": false
   },
   "source": [
    "# Calculate Min & Max Values for any Dictionary"
   ]
  },
  {
   "cell_type": "code",
   "execution_count": null,
   "metadata": {
    "collapsed": true
   },
   "outputs": [],
   "source": [
    "def minMax(data):\n",
    "    maxValue=[]\n",
    "    minValue=[]\n",
    "    for row in data:\n",
    "        if row>maxValue:\n",
    "            maxValue=row\n",
    "        else:\n",
    "            \n",
    "    "
   ]
  }
 ],
 "metadata": {
  "anaconda-cloud": {},
  "kernelspec": {
   "display_name": "Python 3",
   "language": "python",
   "name": "python3"
  },
  "language_info": {
   "codemirror_mode": {
    "name": "ipython",
    "version": 3
   },
   "file_extension": ".py",
   "mimetype": "text/x-python",
   "name": "python",
   "nbconvert_exporter": "python",
   "pygments_lexer": "ipython3",
   "version": "3.4.3"
  }
 },
 "nbformat": 4,
 "nbformat_minor": 1
}
